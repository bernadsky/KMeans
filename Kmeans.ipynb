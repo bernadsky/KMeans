{
 "cells": [
  {
   "cell_type": "markdown",
   "metadata": {},
   "source": [
    "# KMeans clustering algorithm: implementation & demonstration"
   ]
  },
  {
   "cell_type": "code",
   "execution_count": 38,
   "metadata": {
    "collapsed": false
   },
   "outputs": [],
   "source": [
    "import numpy as np\n",
    "import random\n",
    "from sklearn.datasets import load_iris \n",
    "from matplotlib import pyplot as plt\n",
    "import seaborn as sn\n",
    "%matplotlib inline\n",
    "\n",
    "class KMeans:\n",
    "    def __init__(self, K=3):\n",
    "        self.centroids = []\n",
    "        self.K = K\n",
    "    \n",
    "    def compute_distance(self, v1, v2):\n",
    "        # compute the distance between two different vectors\n",
    "        return np.sqrt(np.sum([x**2 for x in v1 - v2]))\n",
    "    \n",
    "    def fit_predict(self, X, max_iter=100, random_state=0):\n",
    "        \n",
    "        np.random.seed(random_state)\n",
    "        \n",
    "        # Choose k unique random centroids\n",
    "        k_random_clusters = random.sample(range(0, X.shape[0]), self.K)\n",
    "        self.centroids = [X[i] for i in k_random_clusters]\n",
    "            \n",
    "        # Initialization\n",
    "        # labels - target variable\n",
    "        # distances - distances from objects to their centroids\n",
    "        labels = np.array([0 for x in range(X.shape[0])])\n",
    "        distances = np.array([0 for x in range(X.shape[0])])\n",
    "        \n",
    "        stop = False\n",
    "        iter_i = 0\n",
    "        temp_centroids = self.centroids[:]\n",
    "        \n",
    "        # Stop when there is not any changes in centroids or we have already done max_iter steps\n",
    "        while not stop and iter_i < max_iter:\n",
    "\n",
    "            for j in range(X.shape[0]):\n",
    "                # Let's see which centroid belongs to a current object\n",
    "                tmp_distances = []\n",
    "                for i in range(self.K):\n",
    "                    tmp_distances.append(self.compute_distance(self.centroids[i], X[j]))\n",
    "                    \n",
    "                # Update labels and distances\n",
    "                idx_min = np.argmin(tmp_distances)\n",
    "                labels[j] = idx_min\n",
    "                distances[j] = tmp_distances[idx_min]\n",
    "\n",
    "            # Update centroids\n",
    "            for k in range(self.K):\n",
    "                centroid_k = X[labels == k]\n",
    "                if centroid_k.shape[0] > 0:\n",
    "                    self.centroids[k] = np.mean(centroid_k, axis=0)\n",
    "                    \n",
    "            iter_i += 1\n",
    "            \n",
    "            # if there is not any changes in centroids, STOP\n",
    "            is_any_change = [all(temp_centroids[i] == self.centroids[i]) for i in range(self.K)]\n",
    "            \n",
    "            if not False in is_any_change:\n",
    "                stop = True\n",
    "            else:\n",
    "                temp_centroids = self.centroids[:]\n",
    "        \n",
    "        return labels, distances"
   ]
  },
  {
   "cell_type": "markdown",
   "metadata": {},
   "source": [
    "# Let's test it on Iris dataset"
   ]
  },
  {
   "cell_type": "code",
   "execution_count": 46,
   "metadata": {
    "collapsed": false,
    "scrolled": true
   },
   "outputs": [],
   "source": [
    "dataset = load_iris()\n",
    "X = dataset['data']\n",
    "y = dataset['target']\n",
    "\n",
    "km = KMeans(3)\n",
    "labels, distances = km.fit_predict(X, random_state=8)"
   ]
  },
  {
   "cell_type": "code",
   "execution_count": 47,
   "metadata": {
    "collapsed": false
   },
   "outputs": [
    {
     "data": {
      "text/plain": [
       "<matplotlib.text.Text at 0x110ca400>"
      ]
     },
     "execution_count": 47,
     "metadata": {},
     "output_type": "execute_result"
    },
    {
     "data": {
      "image/png": "[encoded data removed]",
      "text/plain": [
       "<matplotlib.figure.Figure at 0x10f3b0b8>"
      ]
     },
     "metadata": {},
     "output_type": "display_data"
    }
   ],
   "source": [
    "from sklearn.decomposition import PCA\n",
    "\n",
    "pca = PCA(2)\n",
    "X_pca = pca.fit_transform(X)\n",
    "\n",
    "f, (ax1, ax2) = plt.subplots(1, 2, sharey=True)\n",
    "\n",
    "f.set_figheight(4)\n",
    "f.set_figwidth(12)\n",
    "\n",
    "ax1.scatter(X_pca[labels==0][:, 0], X_pca[labels==0][:, 1], color='blue')\n",
    "ax1.scatter(X_pca[labels==1][:, 0], X_pca[labels==1][:, 1], color='pink')\n",
    "ax1.scatter(X_pca[labels==2][:, 0], X_pca[labels==2][:, 1], color='green')\n",
    "ax1.set_title('KMeans')\n",
    "\n",
    "ax2.scatter(X_pca[y==0][:, 0], X_pca[y==0][:, 1], color='blue')\n",
    "ax2.scatter(X_pca[y==1][:, 0], X_pca[y==1][:, 1], color='pink')\n",
    "ax2.scatter(X_pca[y==2][:, 0], X_pca[y==2][:, 1], color='green')\n",
    "ax2.set_title('True Labels')"
   ]
  }
 ],
 "metadata": {
  "anaconda-cloud": {},
  "kernelspec": {
   "display_name": "Python [Root]",
   "language": "python",
   "name": "Python [Root]"
  },
  "language_info": {
   "codemirror_mode": {
    "name": "ipython",
    "version": 2
   },
   "file_extension": ".py",
   "mimetype": "text/x-python",
   "name": "python",
   "nbconvert_exporter": "python",
   "pygments_lexer": "ipython2",
   "version": "2.7.12"
  }
 },
 "nbformat": 4,
 "nbformat_minor": 0
}
